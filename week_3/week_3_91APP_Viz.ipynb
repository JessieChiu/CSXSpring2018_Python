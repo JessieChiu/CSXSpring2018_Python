{
 "cells": [
  {
   "cell_type": "markdown",
   "metadata": {},
   "source": [
    "# HW 3：資料視覺化 - 91APP"
   ]
  },
  {
   "cell_type": "markdown",
   "metadata": {},
   "source": [
    "## 小結"
   ]
  },
  {
   "cell_type": "markdown",
   "metadata": {},
   "source": [
    "本周練習依時間分群（日期、月份、星期幾、小時），繪圖觀察總銷售量隨時間的消長，得知：\n",
    "\n",
    "1.依日期分群：當日總銷售量在 **2017年11月11日** 出現異常極大值，推測或受「雙十一購物節」促銷影響。\n",
    "\n",
    "\n",
    "2.依月份分群：當月總銷售量高峰出現在 **四、五及十一月** ，其中十一月的高銷售量極有可能是受 2017年11月11日 單日異常極高值影響。\n",
    "\n",
    "\n",
    "3.依星期幾分群：總銷售量高峰出現在 **星期二、三及周末** 。周末購物潮好理解，但周間星期二、三卻出現銷售量高峰，本人不精準猜測和「週三小周末」有關，不少商家常以此作為促銷噱頭以衝高銷售量。\n",
    "\n",
    "\n",
    "4.依小時幾分群：觀察折線圖和直方圖，發現總銷售量高峰出現在 **深夜時段**，可見不少用戶為夜貓族。"
   ]
  },
  {
   "cell_type": "markdown",
   "metadata": {},
   "source": [
    "--------------------------------------------------------------------------------------------------------------------------------\n",
    "## Import Data"
   ]
  },
  {
   "cell_type": "code",
   "execution_count": 1,
   "metadata": {
    "collapsed": true
   },
   "outputs": [],
   "source": [
    "import matplotlib.pyplot as plt\n",
    "import pandas as pd\n",
    "import numpy as np\n",
    "plt.style.use('ggplot')\n",
    "%matplotlib inline"
   ]
  },
  {
   "cell_type": "code",
   "execution_count": 2,
   "metadata": {
    "collapsed": true
   },
   "outputs": [],
   "source": [
    "df = pd.read_csv('Ntu_Orders.csv')"
   ]
  },
  {
   "cell_type": "code",
   "execution_count": 3,
   "metadata": {
    "scrolled": true
   },
   "outputs": [
    {
     "data": {
      "text/html": [
       "<div>\n",
       "<style>\n",
       "    .dataframe thead tr:only-child th {\n",
       "        text-align: right;\n",
       "    }\n",
       "\n",
       "    .dataframe thead th {\n",
       "        text-align: left;\n",
       "    }\n",
       "\n",
       "    .dataframe tbody tr th {\n",
       "        vertical-align: top;\n",
       "    }\n",
       "</style>\n",
       "<table border=\"1\" class=\"dataframe\">\n",
       "  <thead>\n",
       "    <tr style=\"text-align: right;\">\n",
       "      <th></th>\n",
       "      <th>SalesOrderSlaveId</th>\n",
       "      <th>DateId</th>\n",
       "      <th>MemberId</th>\n",
       "      <th>TradesOrderSlaveId</th>\n",
       "      <th>ShopId</th>\n",
       "      <th>SalePageId</th>\n",
       "      <th>TradesOrderGroupCode</th>\n",
       "      <th>TrackSourceTypeDef</th>\n",
       "      <th>TrackChannelTypeDef</th>\n",
       "      <th>TrackDeviceTypeDef</th>\n",
       "      <th>...</th>\n",
       "      <th>UnitPrice</th>\n",
       "      <th>PromotionDiscount</th>\n",
       "      <th>EcouponDiscount</th>\n",
       "      <th>SalesOrderSlaveTotalPayment</th>\n",
       "      <th>SalesOrderSlaveDateTime</th>\n",
       "      <th>SalesOrderSlaveStatusDef</th>\n",
       "      <th>PayProfileTypeDef</th>\n",
       "      <th>ShippingProfileTypeDef</th>\n",
       "      <th>EcouponId</th>\n",
       "      <th>IsSalePageGift</th>\n",
       "    </tr>\n",
       "  </thead>\n",
       "  <tbody>\n",
       "    <tr>\n",
       "      <th>0</th>\n",
       "      <td>26914456</td>\n",
       "      <td>20170103</td>\n",
       "      <td>48D5DE26-236E-4854-8474-B0DCEAFF4F42</td>\n",
       "      <td>26971960</td>\n",
       "      <td>1317</td>\n",
       "      <td>9804</td>\n",
       "      <td>b'q\\x14\\xa49\\xaa\\\\\\xecs\\xff6wH\\xfbXd\\x93\\xfbf\\...</td>\n",
       "      <td>Web</td>\n",
       "      <td>Brand</td>\n",
       "      <td>Mobile</td>\n",
       "      <td>...</td>\n",
       "      <td>399.0</td>\n",
       "      <td>-25.0</td>\n",
       "      <td>0.0</td>\n",
       "      <td>374.0</td>\n",
       "      <td>2017-01-03 23:11:47.207</td>\n",
       "      <td>Finish</td>\n",
       "      <td>SevenEleven</td>\n",
       "      <td>SevenEleven</td>\n",
       "      <td>NaN</td>\n",
       "      <td>False</td>\n",
       "    </tr>\n",
       "    <tr>\n",
       "      <th>1</th>\n",
       "      <td>26914457</td>\n",
       "      <td>20170103</td>\n",
       "      <td>48D5DE26-236E-4854-8474-B0DCEAFF4F42</td>\n",
       "      <td>26971961</td>\n",
       "      <td>1317</td>\n",
       "      <td>9804</td>\n",
       "      <td>b'q\\x14\\xa49\\xaa\\\\\\xecs\\xff6wH\\xfbXd\\x93\\xfbf\\...</td>\n",
       "      <td>Web</td>\n",
       "      <td>Brand</td>\n",
       "      <td>Mobile</td>\n",
       "      <td>...</td>\n",
       "      <td>399.0</td>\n",
       "      <td>-25.0</td>\n",
       "      <td>0.0</td>\n",
       "      <td>374.0</td>\n",
       "      <td>2017-01-03 23:11:47.223</td>\n",
       "      <td>Finish</td>\n",
       "      <td>SevenEleven</td>\n",
       "      <td>SevenEleven</td>\n",
       "      <td>NaN</td>\n",
       "      <td>False</td>\n",
       "    </tr>\n",
       "    <tr>\n",
       "      <th>2</th>\n",
       "      <td>26767644</td>\n",
       "      <td>20170101</td>\n",
       "      <td>C8B989DB-05F9-42D3-BD4F-E203482C5E58</td>\n",
       "      <td>26825136</td>\n",
       "      <td>1317</td>\n",
       "      <td>10118</td>\n",
       "      <td>b'\\x1d\\x8f}\\x12lu&gt;.&amp;\\xfc\\xbc\\xe0\\xd2\\xad\\xe5\\x...</td>\n",
       "      <td>Web</td>\n",
       "      <td>Brand</td>\n",
       "      <td>Mobile</td>\n",
       "      <td>...</td>\n",
       "      <td>350.0</td>\n",
       "      <td>-34.0</td>\n",
       "      <td>0.0</td>\n",
       "      <td>316.0</td>\n",
       "      <td>2017-01-01 17:21:32.113</td>\n",
       "      <td>Finish</td>\n",
       "      <td>Family</td>\n",
       "      <td>Family</td>\n",
       "      <td>NaN</td>\n",
       "      <td>False</td>\n",
       "    </tr>\n",
       "  </tbody>\n",
       "</table>\n",
       "<p>3 rows × 27 columns</p>\n",
       "</div>"
      ],
      "text/plain": [
       "   SalesOrderSlaveId    DateId                              MemberId  \\\n",
       "0           26914456  20170103  48D5DE26-236E-4854-8474-B0DCEAFF4F42   \n",
       "1           26914457  20170103  48D5DE26-236E-4854-8474-B0DCEAFF4F42   \n",
       "2           26767644  20170101  C8B989DB-05F9-42D3-BD4F-E203482C5E58   \n",
       "\n",
       "   TradesOrderSlaveId  ShopId  SalePageId  \\\n",
       "0            26971960    1317        9804   \n",
       "1            26971961    1317        9804   \n",
       "2            26825136    1317       10118   \n",
       "\n",
       "                                TradesOrderGroupCode TrackSourceTypeDef  \\\n",
       "0  b'q\\x14\\xa49\\xaa\\\\\\xecs\\xff6wH\\xfbXd\\x93\\xfbf\\...                Web   \n",
       "1  b'q\\x14\\xa49\\xaa\\\\\\xecs\\xff6wH\\xfbXd\\x93\\xfbf\\...                Web   \n",
       "2  b'\\x1d\\x8f}\\x12lu>.&\\xfc\\xbc\\xe0\\xd2\\xad\\xe5\\x...                Web   \n",
       "\n",
       "  TrackChannelTypeDef TrackDeviceTypeDef       ...       UnitPrice  \\\n",
       "0               Brand             Mobile       ...           399.0   \n",
       "1               Brand             Mobile       ...           399.0   \n",
       "2               Brand             Mobile       ...           350.0   \n",
       "\n",
       "  PromotionDiscount EcouponDiscount SalesOrderSlaveTotalPayment  \\\n",
       "0             -25.0             0.0                       374.0   \n",
       "1             -25.0             0.0                       374.0   \n",
       "2             -34.0             0.0                       316.0   \n",
       "\n",
       "   SalesOrderSlaveDateTime  SalesOrderSlaveStatusDef  PayProfileTypeDef  \\\n",
       "0  2017-01-03 23:11:47.207                    Finish        SevenEleven   \n",
       "1  2017-01-03 23:11:47.223                    Finish        SevenEleven   \n",
       "2  2017-01-01 17:21:32.113                    Finish             Family   \n",
       "\n",
       "   ShippingProfileTypeDef  EcouponId  IsSalePageGift  \n",
       "0             SevenEleven        NaN           False  \n",
       "1             SevenEleven        NaN           False  \n",
       "2                  Family        NaN           False  \n",
       "\n",
       "[3 rows x 27 columns]"
      ]
     },
     "execution_count": 3,
     "metadata": {},
     "output_type": "execute_result"
    }
   ],
   "source": [
    "df.head(3) # Print head of df"
   ]
  },
  {
   "cell_type": "code",
   "execution_count": 4,
   "metadata": {},
   "outputs": [
    {
     "data": {
      "text/html": [
       "<div>\n",
       "<style>\n",
       "    .dataframe thead tr:only-child th {\n",
       "        text-align: right;\n",
       "    }\n",
       "\n",
       "    .dataframe thead th {\n",
       "        text-align: left;\n",
       "    }\n",
       "\n",
       "    .dataframe tbody tr th {\n",
       "        vertical-align: top;\n",
       "    }\n",
       "</style>\n",
       "<table border=\"1\" class=\"dataframe\">\n",
       "  <thead>\n",
       "    <tr style=\"text-align: right;\">\n",
       "      <th></th>\n",
       "      <th>SalesOrderSlaveId</th>\n",
       "      <th>DateId</th>\n",
       "      <th>MemberId</th>\n",
       "      <th>TradesOrderSlaveId</th>\n",
       "      <th>ShopId</th>\n",
       "      <th>SalePageId</th>\n",
       "      <th>TradesOrderGroupCode</th>\n",
       "      <th>TrackSourceTypeDef</th>\n",
       "      <th>TrackChannelTypeDef</th>\n",
       "      <th>TrackDeviceTypeDef</th>\n",
       "      <th>...</th>\n",
       "      <th>UnitPrice</th>\n",
       "      <th>PromotionDiscount</th>\n",
       "      <th>EcouponDiscount</th>\n",
       "      <th>SalesOrderSlaveTotalPayment</th>\n",
       "      <th>SalesOrderSlaveDateTime</th>\n",
       "      <th>SalesOrderSlaveStatusDef</th>\n",
       "      <th>PayProfileTypeDef</th>\n",
       "      <th>ShippingProfileTypeDef</th>\n",
       "      <th>EcouponId</th>\n",
       "      <th>IsSalePageGift</th>\n",
       "    </tr>\n",
       "  </thead>\n",
       "  <tbody>\n",
       "    <tr>\n",
       "      <th>2268345</th>\n",
       "      <td>50057718</td>\n",
       "      <td>20171220</td>\n",
       "      <td>CEC073AD-FED6-4382-A408-56527B10DE4E</td>\n",
       "      <td>50121525</td>\n",
       "      <td>1317</td>\n",
       "      <td>9125</td>\n",
       "      <td>b'\\xdd\\xda\\xe9\\xbb\\x12#\\xe3\\xca7\\x0e\\xb07\\xff#...</td>\n",
       "      <td>Web</td>\n",
       "      <td>Brand</td>\n",
       "      <td>PC</td>\n",
       "      <td>...</td>\n",
       "      <td>249.0</td>\n",
       "      <td>0.0</td>\n",
       "      <td>0.0</td>\n",
       "      <td>249.0</td>\n",
       "      <td>2017-12-20 16:31:19.820</td>\n",
       "      <td>Cancel</td>\n",
       "      <td>Family</td>\n",
       "      <td>Family</td>\n",
       "      <td>NaN</td>\n",
       "      <td>False</td>\n",
       "    </tr>\n",
       "    <tr>\n",
       "      <th>2268346</th>\n",
       "      <td>50057719</td>\n",
       "      <td>20171220</td>\n",
       "      <td>CEC073AD-FED6-4382-A408-56527B10DE4E</td>\n",
       "      <td>50121526</td>\n",
       "      <td>1317</td>\n",
       "      <td>8602</td>\n",
       "      <td>b'\\xdd\\xda\\xe9\\xbb\\x12#\\xe3\\xca7\\x0e\\xb07\\xff#...</td>\n",
       "      <td>Web</td>\n",
       "      <td>Brand</td>\n",
       "      <td>PC</td>\n",
       "      <td>...</td>\n",
       "      <td>499.0</td>\n",
       "      <td>0.0</td>\n",
       "      <td>0.0</td>\n",
       "      <td>499.0</td>\n",
       "      <td>2017-12-20 16:31:19.840</td>\n",
       "      <td>Cancel</td>\n",
       "      <td>Family</td>\n",
       "      <td>Family</td>\n",
       "      <td>NaN</td>\n",
       "      <td>False</td>\n",
       "    </tr>\n",
       "    <tr>\n",
       "      <th>2268347</th>\n",
       "      <td>50058976</td>\n",
       "      <td>20171220</td>\n",
       "      <td>F135AC00-E702-47F1-B496-8EDCBE62EBBD</td>\n",
       "      <td>50122780</td>\n",
       "      <td>1317</td>\n",
       "      <td>10114</td>\n",
       "      <td>b'\\xf4\\n\\x14\\xdc\\x85n\\x17JY\\x14\\xb3\\x99v\\x15\\x...</td>\n",
       "      <td>Web</td>\n",
       "      <td>Brand</td>\n",
       "      <td>PC</td>\n",
       "      <td>...</td>\n",
       "      <td>199.0</td>\n",
       "      <td>0.0</td>\n",
       "      <td>0.0</td>\n",
       "      <td>199.0</td>\n",
       "      <td>2017-12-20 16:54:19.263</td>\n",
       "      <td>Finish</td>\n",
       "      <td>SevenEleven</td>\n",
       "      <td>SevenEleven</td>\n",
       "      <td>NaN</td>\n",
       "      <td>False</td>\n",
       "    </tr>\n",
       "  </tbody>\n",
       "</table>\n",
       "<p>3 rows × 27 columns</p>\n",
       "</div>"
      ],
      "text/plain": [
       "         SalesOrderSlaveId    DateId                              MemberId  \\\n",
       "2268345           50057718  20171220  CEC073AD-FED6-4382-A408-56527B10DE4E   \n",
       "2268346           50057719  20171220  CEC073AD-FED6-4382-A408-56527B10DE4E   \n",
       "2268347           50058976  20171220  F135AC00-E702-47F1-B496-8EDCBE62EBBD   \n",
       "\n",
       "         TradesOrderSlaveId  ShopId  SalePageId  \\\n",
       "2268345            50121525    1317        9125   \n",
       "2268346            50121526    1317        8602   \n",
       "2268347            50122780    1317       10114   \n",
       "\n",
       "                                      TradesOrderGroupCode TrackSourceTypeDef  \\\n",
       "2268345  b'\\xdd\\xda\\xe9\\xbb\\x12#\\xe3\\xca7\\x0e\\xb07\\xff#...                Web   \n",
       "2268346  b'\\xdd\\xda\\xe9\\xbb\\x12#\\xe3\\xca7\\x0e\\xb07\\xff#...                Web   \n",
       "2268347  b'\\xf4\\n\\x14\\xdc\\x85n\\x17JY\\x14\\xb3\\x99v\\x15\\x...                Web   \n",
       "\n",
       "        TrackChannelTypeDef TrackDeviceTypeDef       ...       UnitPrice  \\\n",
       "2268345               Brand                 PC       ...           249.0   \n",
       "2268346               Brand                 PC       ...           499.0   \n",
       "2268347               Brand                 PC       ...           199.0   \n",
       "\n",
       "        PromotionDiscount EcouponDiscount SalesOrderSlaveTotalPayment  \\\n",
       "2268345               0.0             0.0                       249.0   \n",
       "2268346               0.0             0.0                       499.0   \n",
       "2268347               0.0             0.0                       199.0   \n",
       "\n",
       "         SalesOrderSlaveDateTime  SalesOrderSlaveStatusDef  PayProfileTypeDef  \\\n",
       "2268345  2017-12-20 16:31:19.820                    Cancel             Family   \n",
       "2268346  2017-12-20 16:31:19.840                    Cancel             Family   \n",
       "2268347  2017-12-20 16:54:19.263                    Finish        SevenEleven   \n",
       "\n",
       "         ShippingProfileTypeDef  EcouponId  IsSalePageGift  \n",
       "2268345                  Family        NaN           False  \n",
       "2268346                  Family        NaN           False  \n",
       "2268347             SevenEleven        NaN           False  \n",
       "\n",
       "[3 rows x 27 columns]"
      ]
     },
     "execution_count": 4,
     "metadata": {},
     "output_type": "execute_result"
    }
   ],
   "source": [
    "df.tail(3) # Print tail of df"
   ]
  },
  {
   "cell_type": "markdown",
   "metadata": {},
   "source": [
    "## Data Visualization"
   ]
  },
  {
   "cell_type": "markdown",
   "metadata": {},
   "source": [
    "### Step 1: Data Preprocessing"
   ]
  },
  {
   "cell_type": "markdown",
   "metadata": {},
   "source": [
    "將下訂單時間（OrderTime）分別轉成日期（Date）、月份（Month）、星期幾（Weekday）及小時（Hour），並存進新的 columns。"
   ]
  },
  {
   "cell_type": "code",
   "execution_count": 5,
   "metadata": {
    "collapsed": true
   },
   "outputs": [],
   "source": [
    "# Convert dtype to pd datetime \"%Y%m%d %H:%M:%S\"\n",
    "df['OrderTime'] = pd.to_datetime(df['SalesOrderSlaveDateTime'], format=\"%Y%m%d %H:%M:%S\")"
   ]
  },
  {
   "cell_type": "code",
   "execution_count": 6,
   "metadata": {
    "collapsed": true
   },
   "outputs": [],
   "source": [
    "# Create time interval columns\n",
    "df['Date'] = df['OrderTime'].apply(lambda x: x.strftime('%Y-%m-%d')) # Create date column\n",
    "df['Month'] = df['OrderTime'].apply(lambda x: x.strftime('%m')) # Create month column\n",
    "df['Weekday'] = df['OrderTime'].dt.weekday_name # Create weekday column\n",
    "df['Hour'] = df['OrderTime'].apply(lambda x: x.strftime('%H')) # Create hour column"
   ]
  },
  {
   "cell_type": "code",
   "execution_count": 7,
   "metadata": {
    "scrolled": true
   },
   "outputs": [
    {
     "data": {
      "text/html": [
       "<div>\n",
       "<style>\n",
       "    .dataframe thead tr:only-child th {\n",
       "        text-align: right;\n",
       "    }\n",
       "\n",
       "    .dataframe thead th {\n",
       "        text-align: left;\n",
       "    }\n",
       "\n",
       "    .dataframe tbody tr th {\n",
       "        vertical-align: top;\n",
       "    }\n",
       "</style>\n",
       "<table border=\"1\" class=\"dataframe\">\n",
       "  <thead>\n",
       "    <tr style=\"text-align: right;\">\n",
       "      <th></th>\n",
       "      <th>OrderTime</th>\n",
       "      <th>Date</th>\n",
       "      <th>Month</th>\n",
       "      <th>Weekday</th>\n",
       "      <th>Hour</th>\n",
       "      <th>Quantity</th>\n",
       "    </tr>\n",
       "  </thead>\n",
       "  <tbody>\n",
       "    <tr>\n",
       "      <th>0</th>\n",
       "      <td>2017-01-03 23:11:47.207</td>\n",
       "      <td>2017-01-03</td>\n",
       "      <td>01</td>\n",
       "      <td>Tuesday</td>\n",
       "      <td>23</td>\n",
       "      <td>1</td>\n",
       "    </tr>\n",
       "    <tr>\n",
       "      <th>1</th>\n",
       "      <td>2017-01-03 23:11:47.223</td>\n",
       "      <td>2017-01-03</td>\n",
       "      <td>01</td>\n",
       "      <td>Tuesday</td>\n",
       "      <td>23</td>\n",
       "      <td>1</td>\n",
       "    </tr>\n",
       "    <tr>\n",
       "      <th>2</th>\n",
       "      <td>2017-01-01 17:21:32.113</td>\n",
       "      <td>2017-01-01</td>\n",
       "      <td>01</td>\n",
       "      <td>Sunday</td>\n",
       "      <td>17</td>\n",
       "      <td>1</td>\n",
       "    </tr>\n",
       "  </tbody>\n",
       "</table>\n",
       "</div>"
      ],
      "text/plain": [
       "                OrderTime        Date Month  Weekday Hour  Quantity\n",
       "0 2017-01-03 23:11:47.207  2017-01-03    01  Tuesday   23         1\n",
       "1 2017-01-03 23:11:47.223  2017-01-03    01  Tuesday   23         1\n",
       "2 2017-01-01 17:21:32.113  2017-01-01    01   Sunday   17         1"
      ]
     },
     "execution_count": 7,
     "metadata": {},
     "output_type": "execute_result"
    }
   ],
   "source": [
    "# Extract completed orders\n",
    "df2 = df.loc[df['SalesOrderSlaveStatusDef'].isin(['WaitingToFinish','Finish']),['OrderTime','Date','Month','Weekday','Hour','Quantity']]\n",
    "df2.head(3)"
   ]
  },
  {
   "cell_type": "markdown",
   "metadata": {},
   "source": [
    "### Step 2: Plotting the Data"
   ]
  },
  {
   "cell_type": "markdown",
   "metadata": {},
   "source": [
    "    (1) 依時間分群（日期、月份、星期幾、小時），計算每一單位時間的總銷售量（Sales Volume = Total Quantity）。\n",
    "\n",
    "    (2) 繪製 「時間 VS 銷售量」 的折線圖（line chart），觀察總銷售量隨時間的消長。\n",
    "    \n",
    "    (3) 繪製 「時間 VS 銷售量」 的長條圖（bar chart），比較不同時間的總銷售量。"
   ]
  },
  {
   "cell_type": "markdown",
   "metadata": {},
   "source": [
    "### ● 依日期分群（Date）"
   ]
  },
  {
   "cell_type": "markdown",
   "metadata": {},
   "source": [
    "    (1) 依日期分群，計算當日總銷售量（Sales Volume = Total Quantity）。"
   ]
  },
  {
   "cell_type": "code",
   "execution_count": 8,
   "metadata": {
    "scrolled": true
   },
   "outputs": [
    {
     "data": {
      "text/html": [
       "<div>\n",
       "<style>\n",
       "    .dataframe thead tr:only-child th {\n",
       "        text-align: right;\n",
       "    }\n",
       "\n",
       "    .dataframe thead th {\n",
       "        text-align: left;\n",
       "    }\n",
       "\n",
       "    .dataframe tbody tr th {\n",
       "        vertical-align: top;\n",
       "    }\n",
       "</style>\n",
       "<table border=\"1\" class=\"dataframe\">\n",
       "  <thead>\n",
       "    <tr style=\"text-align: right;\">\n",
       "      <th></th>\n",
       "      <th>Date</th>\n",
       "      <th>Quantity</th>\n",
       "    </tr>\n",
       "  </thead>\n",
       "  <tbody>\n",
       "    <tr>\n",
       "      <th>0</th>\n",
       "      <td>2017-01-01</td>\n",
       "      <td>3154</td>\n",
       "    </tr>\n",
       "    <tr>\n",
       "      <th>1</th>\n",
       "      <td>2017-01-02</td>\n",
       "      <td>4328</td>\n",
       "    </tr>\n",
       "    <tr>\n",
       "      <th>2</th>\n",
       "      <td>2017-01-03</td>\n",
       "      <td>2950</td>\n",
       "    </tr>\n",
       "    <tr>\n",
       "      <th>3</th>\n",
       "      <td>2017-01-04</td>\n",
       "      <td>2373</td>\n",
       "    </tr>\n",
       "    <tr>\n",
       "      <th>4</th>\n",
       "      <td>2017-01-05</td>\n",
       "      <td>2267</td>\n",
       "    </tr>\n",
       "  </tbody>\n",
       "</table>\n",
       "</div>"
      ],
      "text/plain": [
       "         Date  Quantity\n",
       "0  2017-01-01      3154\n",
       "1  2017-01-02      4328\n",
       "2  2017-01-03      2950\n",
       "3  2017-01-04      2373\n",
       "4  2017-01-05      2267"
      ]
     },
     "execution_count": 8,
     "metadata": {},
     "output_type": "execute_result"
    }
   ],
   "source": [
    "data = df2.groupby(by='Date')['Quantity'].sum().to_frame()\n",
    "data.reset_index(level=0, inplace=True) # reset index\n",
    "data.head(5)"
   ]
  },
  {
   "cell_type": "markdown",
   "metadata": {},
   "source": [
    "    (2) 繪製折線圖（line chart）                          (3) 繪製長條圖（bar chart）"
   ]
  },
  {
   "cell_type": "markdown",
   "metadata": {},
   "source": [
    "觀察折線圖和直方圖，發現當日總銷售量出現異常極大值，推測可能是特定節日促銷使銷售量暴衝。經 `np.argmax` 計算出極大值的 index ，再透過 `.iloc` 擷取出該列，得知當日為十一月十一日（雙十一購物節）。"
   ]
  },
  {
   "cell_type": "code",
   "execution_count": 9,
   "metadata": {
    "scrolled": true
   },
   "outputs": [
    {
     "data": {
      "text/plain": [
       "Text(0.5,0.98,'Sales Volume by Date')"
      ]
     },
     "execution_count": 9,
     "metadata": {},
     "output_type": "execute_result"
    },
    {
     "data": {
      "image/png": "[encoded data removed]",
      "text/plain": [
       "<Figure size 864x432 with 2 Axes>"
      ]
     },
     "metadata": {},
     "output_type": "display_data"
    }
   ],
   "source": [
    "fig, axs = plt.subplots(1, 2, figsize=(12, 6), sharey=True)\n",
    "\n",
    "axs[0].plot(data['Date'], data['Quantity'])\n",
    "axs[0].set_ylabel('Sales Volume')\n",
    "axs[0].set_xlabel('Date')\n",
    "\n",
    "axs[1].bar(data['Date'], data['Quantity'])\n",
    "axs[1].set_ylabel('Sales Volume')\n",
    "axs[1].set_xlabel('Date')\n",
    "\n",
    "fig.suptitle('Sales Volume by Date')"
   ]
  },
  {
   "cell_type": "code",
   "execution_count": 10,
   "metadata": {},
   "outputs": [
    {
     "data": {
      "text/plain": [
       "Date        2017-11-11\n",
       "Quantity         21033\n",
       "Name: 314, dtype: object"
      ]
     },
     "execution_count": 10,
     "metadata": {},
     "output_type": "execute_result"
    }
   ],
   "source": [
    "index_max = np.argmax(data['Quantity']) # Find date with max Quantity\n",
    "data.iloc[index_max]"
   ]
  },
  {
   "cell_type": "markdown",
   "metadata": {},
   "source": [
    "### ● 依月份分群（Month）"
   ]
  },
  {
   "cell_type": "markdown",
   "metadata": {},
   "source": [
    "    (1) 依月份分群，計算當月總銷售量（Sales Volume = Total Quantity）。"
   ]
  },
  {
   "cell_type": "code",
   "execution_count": 11,
   "metadata": {
    "scrolled": false
   },
   "outputs": [
    {
     "data": {
      "text/html": [
       "<div>\n",
       "<style>\n",
       "    .dataframe thead tr:only-child th {\n",
       "        text-align: right;\n",
       "    }\n",
       "\n",
       "    .dataframe thead th {\n",
       "        text-align: left;\n",
       "    }\n",
       "\n",
       "    .dataframe tbody tr th {\n",
       "        vertical-align: top;\n",
       "    }\n",
       "</style>\n",
       "<table border=\"1\" class=\"dataframe\">\n",
       "  <thead>\n",
       "    <tr style=\"text-align: right;\">\n",
       "      <th></th>\n",
       "      <th>Month</th>\n",
       "      <th>Quantity</th>\n",
       "    </tr>\n",
       "  </thead>\n",
       "  <tbody>\n",
       "    <tr>\n",
       "      <th>0</th>\n",
       "      <td>01</td>\n",
       "      <td>57526</td>\n",
       "    </tr>\n",
       "    <tr>\n",
       "      <th>1</th>\n",
       "      <td>02</td>\n",
       "      <td>80519</td>\n",
       "    </tr>\n",
       "    <tr>\n",
       "      <th>2</th>\n",
       "      <td>03</td>\n",
       "      <td>163329</td>\n",
       "    </tr>\n",
       "    <tr>\n",
       "      <th>3</th>\n",
       "      <td>04</td>\n",
       "      <td>219153</td>\n",
       "    </tr>\n",
       "    <tr>\n",
       "      <th>4</th>\n",
       "      <td>05</td>\n",
       "      <td>217729</td>\n",
       "    </tr>\n",
       "    <tr>\n",
       "      <th>5</th>\n",
       "      <td>06</td>\n",
       "      <td>171542</td>\n",
       "    </tr>\n",
       "    <tr>\n",
       "      <th>6</th>\n",
       "      <td>07</td>\n",
       "      <td>166239</td>\n",
       "    </tr>\n",
       "    <tr>\n",
       "      <th>7</th>\n",
       "      <td>08</td>\n",
       "      <td>127450</td>\n",
       "    </tr>\n",
       "    <tr>\n",
       "      <th>8</th>\n",
       "      <td>09</td>\n",
       "      <td>111033</td>\n",
       "    </tr>\n",
       "    <tr>\n",
       "      <th>9</th>\n",
       "      <td>10</td>\n",
       "      <td>147419</td>\n",
       "    </tr>\n",
       "    <tr>\n",
       "      <th>10</th>\n",
       "      <td>11</td>\n",
       "      <td>218504</td>\n",
       "    </tr>\n",
       "    <tr>\n",
       "      <th>11</th>\n",
       "      <td>12</td>\n",
       "      <td>137607</td>\n",
       "    </tr>\n",
       "  </tbody>\n",
       "</table>\n",
       "</div>"
      ],
      "text/plain": [
       "   Month  Quantity\n",
       "0     01     57526\n",
       "1     02     80519\n",
       "2     03    163329\n",
       "3     04    219153\n",
       "4     05    217729\n",
       "5     06    171542\n",
       "6     07    166239\n",
       "7     08    127450\n",
       "8     09    111033\n",
       "9     10    147419\n",
       "10    11    218504\n",
       "11    12    137607"
      ]
     },
     "execution_count": 11,
     "metadata": {},
     "output_type": "execute_result"
    }
   ],
   "source": [
    "data = df2.groupby(by='Month')['Quantity'].sum().to_frame()\n",
    "data.reset_index(level=0, inplace=True) # reset index\n",
    "data"
   ]
  },
  {
   "cell_type": "markdown",
   "metadata": {},
   "source": [
    "    (2) 繪製折線圖（line chart）                          (3) 繪製長條圖（bar chart）"
   ]
  },
  {
   "cell_type": "markdown",
   "metadata": {},
   "source": [
    "觀察折線圖和直方圖，發現當月總銷售量高峰出現在四、五及十一月。按照前一小題（依日期分群）的結論，十一月的高銷售量極有可能是受 2017年11月11日 單日異常極高值影響，而四、五月的銷售盛況則值得玩味。"
   ]
  },
  {
   "cell_type": "code",
   "execution_count": 12,
   "metadata": {
    "scrolled": true
   },
   "outputs": [
    {
     "data": {
      "text/plain": [
       "Text(0.5,0.98,'Sales Volume by Month')"
      ]
     },
     "execution_count": 12,
     "metadata": {},
     "output_type": "execute_result"
    },
    {
     "data": {
      "image/png": "[encoded data removed]",
      "text/plain": [
       "<Figure size 864x432 with 2 Axes>"
      ]
     },
     "metadata": {},
     "output_type": "display_data"
    }
   ],
   "source": [
    "fig, axs = plt.subplots(1, 2, figsize=(12, 6), sharey=True)\n",
    "\n",
    "axs[0].plot(data['Month'], data['Quantity'])\n",
    "axs[0].set_ylabel('Sales Volume')\n",
    "axs[0].set_xlabel('Month')\n",
    "\n",
    "axs[1].bar(data['Month'], data['Quantity'])\n",
    "axs[1].set_ylabel('Sales Volume')\n",
    "axs[1].set_xlabel('Month')\n",
    "\n",
    "fig.suptitle('Sales Volume by Month')"
   ]
  },
  {
   "cell_type": "markdown",
   "metadata": {},
   "source": [
    "### ● 依星期分群（Weekday）"
   ]
  },
  {
   "cell_type": "markdown",
   "metadata": {},
   "source": [
    "    (1) 依星期幾分群，計算星期幾的總銷售量（Sales Volume = Total Quantity）。"
   ]
  },
  {
   "cell_type": "code",
   "execution_count": 13,
   "metadata": {
    "scrolled": false
   },
   "outputs": [
    {
     "data": {
      "text/html": [
       "<div>\n",
       "<style>\n",
       "    .dataframe thead tr:only-child th {\n",
       "        text-align: right;\n",
       "    }\n",
       "\n",
       "    .dataframe thead th {\n",
       "        text-align: left;\n",
       "    }\n",
       "\n",
       "    .dataframe tbody tr th {\n",
       "        vertical-align: top;\n",
       "    }\n",
       "</style>\n",
       "<table border=\"1\" class=\"dataframe\">\n",
       "  <thead>\n",
       "    <tr style=\"text-align: right;\">\n",
       "      <th></th>\n",
       "      <th>Weekday</th>\n",
       "      <th>Quantity</th>\n",
       "    </tr>\n",
       "  </thead>\n",
       "  <tbody>\n",
       "    <tr>\n",
       "      <th>0</th>\n",
       "      <td>Friday</td>\n",
       "      <td>230919</td>\n",
       "    </tr>\n",
       "    <tr>\n",
       "      <th>1</th>\n",
       "      <td>Monday</td>\n",
       "      <td>246891</td>\n",
       "    </tr>\n",
       "    <tr>\n",
       "      <th>2</th>\n",
       "      <td>Saturday</td>\n",
       "      <td>262892</td>\n",
       "    </tr>\n",
       "    <tr>\n",
       "      <th>3</th>\n",
       "      <td>Sunday</td>\n",
       "      <td>277596</td>\n",
       "    </tr>\n",
       "    <tr>\n",
       "      <th>4</th>\n",
       "      <td>Thursday</td>\n",
       "      <td>243930</td>\n",
       "    </tr>\n",
       "    <tr>\n",
       "      <th>5</th>\n",
       "      <td>Tuesday</td>\n",
       "      <td>281161</td>\n",
       "    </tr>\n",
       "    <tr>\n",
       "      <th>6</th>\n",
       "      <td>Wednesday</td>\n",
       "      <td>274661</td>\n",
       "    </tr>\n",
       "  </tbody>\n",
       "</table>\n",
       "</div>"
      ],
      "text/plain": [
       "     Weekday  Quantity\n",
       "0     Friday    230919\n",
       "1     Monday    246891\n",
       "2   Saturday    262892\n",
       "3     Sunday    277596\n",
       "4   Thursday    243930\n",
       "5    Tuesday    281161\n",
       "6  Wednesday    274661"
      ]
     },
     "execution_count": 13,
     "metadata": {},
     "output_type": "execute_result"
    }
   ],
   "source": [
    "data = df2.groupby(by='Weekday')['Quantity'].sum().to_frame()\n",
    "data.reset_index(level=0, inplace=True) # reset index so as to sort Weekday\n",
    "data"
   ]
  },
  {
   "cell_type": "code",
   "execution_count": 14,
   "metadata": {
    "scrolled": false
   },
   "outputs": [
    {
     "data": {
      "text/html": [
       "<div>\n",
       "<style>\n",
       "    .dataframe thead tr:only-child th {\n",
       "        text-align: right;\n",
       "    }\n",
       "\n",
       "    .dataframe thead th {\n",
       "        text-align: left;\n",
       "    }\n",
       "\n",
       "    .dataframe tbody tr th {\n",
       "        vertical-align: top;\n",
       "    }\n",
       "</style>\n",
       "<table border=\"1\" class=\"dataframe\">\n",
       "  <thead>\n",
       "    <tr style=\"text-align: right;\">\n",
       "      <th></th>\n",
       "      <th>Weekday</th>\n",
       "      <th>Quantity</th>\n",
       "    </tr>\n",
       "  </thead>\n",
       "  <tbody>\n",
       "    <tr>\n",
       "      <th>1</th>\n",
       "      <td>Monday</td>\n",
       "      <td>246891</td>\n",
       "    </tr>\n",
       "    <tr>\n",
       "      <th>5</th>\n",
       "      <td>Tuesday</td>\n",
       "      <td>281161</td>\n",
       "    </tr>\n",
       "    <tr>\n",
       "      <th>6</th>\n",
       "      <td>Wednesday</td>\n",
       "      <td>274661</td>\n",
       "    </tr>\n",
       "    <tr>\n",
       "      <th>4</th>\n",
       "      <td>Thursday</td>\n",
       "      <td>243930</td>\n",
       "    </tr>\n",
       "    <tr>\n",
       "      <th>0</th>\n",
       "      <td>Friday</td>\n",
       "      <td>230919</td>\n",
       "    </tr>\n",
       "    <tr>\n",
       "      <th>2</th>\n",
       "      <td>Saturday</td>\n",
       "      <td>262892</td>\n",
       "    </tr>\n",
       "    <tr>\n",
       "      <th>3</th>\n",
       "      <td>Sunday</td>\n",
       "      <td>277596</td>\n",
       "    </tr>\n",
       "  </tbody>\n",
       "</table>\n",
       "</div>"
      ],
      "text/plain": [
       "     Weekday  Quantity\n",
       "1     Monday    246891\n",
       "5    Tuesday    281161\n",
       "6  Wednesday    274661\n",
       "4   Thursday    243930\n",
       "0     Friday    230919\n",
       "2   Saturday    262892\n",
       "3     Sunday    277596"
      ]
     },
     "execution_count": 14,
     "metadata": {},
     "output_type": "execute_result"
    }
   ],
   "source": [
    "weekday_order = ['Monday','Tuesday','Wednesday','Thursday','Friday','Saturday','Sunday']\n",
    "\n",
    "data.Weekday = pd.Categorical(data.Weekday, \n",
    "                      categories=weekday_order,\n",
    "                      ordered=True)\n",
    "\n",
    "data.sort_values('Weekday', inplace=True) # sort Weekdays\n",
    "data"
   ]
  },
  {
   "cell_type": "code",
   "execution_count": 15,
   "metadata": {
    "scrolled": false
   },
   "outputs": [
    {
     "data": {
      "text/html": [
       "<div>\n",
       "<style>\n",
       "    .dataframe thead tr:only-child th {\n",
       "        text-align: right;\n",
       "    }\n",
       "\n",
       "    .dataframe thead th {\n",
       "        text-align: left;\n",
       "    }\n",
       "\n",
       "    .dataframe tbody tr th {\n",
       "        vertical-align: top;\n",
       "    }\n",
       "</style>\n",
       "<table border=\"1\" class=\"dataframe\">\n",
       "  <thead>\n",
       "    <tr style=\"text-align: right;\">\n",
       "      <th></th>\n",
       "      <th>Weekday</th>\n",
       "      <th>Quantity</th>\n",
       "    </tr>\n",
       "  </thead>\n",
       "  <tbody>\n",
       "    <tr>\n",
       "      <th>0</th>\n",
       "      <td>Monday</td>\n",
       "      <td>246891</td>\n",
       "    </tr>\n",
       "    <tr>\n",
       "      <th>1</th>\n",
       "      <td>Tuesday</td>\n",
       "      <td>281161</td>\n",
       "    </tr>\n",
       "    <tr>\n",
       "      <th>2</th>\n",
       "      <td>Wednesday</td>\n",
       "      <td>274661</td>\n",
       "    </tr>\n",
       "    <tr>\n",
       "      <th>3</th>\n",
       "      <td>Thursday</td>\n",
       "      <td>243930</td>\n",
       "    </tr>\n",
       "    <tr>\n",
       "      <th>4</th>\n",
       "      <td>Friday</td>\n",
       "      <td>230919</td>\n",
       "    </tr>\n",
       "    <tr>\n",
       "      <th>5</th>\n",
       "      <td>Saturday</td>\n",
       "      <td>262892</td>\n",
       "    </tr>\n",
       "    <tr>\n",
       "      <th>6</th>\n",
       "      <td>Sunday</td>\n",
       "      <td>277596</td>\n",
       "    </tr>\n",
       "  </tbody>\n",
       "</table>\n",
       "</div>"
      ],
      "text/plain": [
       "     Weekday  Quantity\n",
       "0     Monday    246891\n",
       "1    Tuesday    281161\n",
       "2  Wednesday    274661\n",
       "3   Thursday    243930\n",
       "4     Friday    230919\n",
       "5   Saturday    262892\n",
       "6     Sunday    277596"
      ]
     },
     "execution_count": 15,
     "metadata": {},
     "output_type": "execute_result"
    }
   ],
   "source": [
    "data = data.reset_index(drop=True) # reset index\n",
    "data"
   ]
  },
  {
   "cell_type": "markdown",
   "metadata": {},
   "source": [
    "      (2) 繪製折線圖（line chart）                          (3) 繪製長條圖（bar chart）"
   ]
  },
  {
   "cell_type": "markdown",
   "metadata": {},
   "source": [
    "觀察折線圖和直方圖，發現總銷售量高峰出現在星期二、三及周末。周末購物潮好理解，而星期二、三的總銷售量高峰則有可能和「週三小周末」有關，不少商家常以此作為促銷噱頭以衝高銷售量。"
   ]
  },
  {
   "cell_type": "code",
   "execution_count": 23,
   "metadata": {},
   "outputs": [
    {
     "data": {
      "text/plain": [
       "Text(0.5,0.98,'Sales Volume by Weekday')"
      ]
     },
     "execution_count": 23,
     "metadata": {},
     "output_type": "execute_result"
    },
    {
     "data": {
      "image/png": "[encoded data removed]",
      "text/plain": [
       "<Figure size 864x432 with 2 Axes>"
      ]
     },
     "metadata": {},
     "output_type": "display_data"
    }
   ],
   "source": [
    "fig, axs = plt.subplots(1, 2, figsize=(12, 6), sharey=True)\n",
    "\n",
    "axs[0].plot(data.index.values, data['Quantity']) # must use index values as x for categorical data\n",
    "axs[0].set_xticks(np.arange(len(data['Weekday'])))\n",
    "axs[0].set_xticklabels(data['Weekday'], rotation=\"vertical\")\n",
    "axs[0].set_ylabel('Sales Volume')\n",
    "axs[0].set_xlabel('Weekday')\n",
    "\n",
    "axs[1].bar(data.index.values, data['Quantity']) # must use index values as x for categorical data\n",
    "axs[1].set_xticks(np.arange(len(data['Weekday'])))\n",
    "axs[1].set_xticklabels(data['Weekday'], rotation=\"vertical\")\n",
    "axs[1].set_ylabel('Sales Volume')\n",
    "axs[1].set_xlabel('Weekday')\n",
    "\n",
    "fig.suptitle('Sales Volume by Weekday')"
   ]
  },
  {
   "cell_type": "markdown",
   "metadata": {},
   "source": [
    "### ● 依小時分群（Hour）"
   ]
  },
  {
   "cell_type": "markdown",
   "metadata": {},
   "source": [
    "    (1) 依小時分群，計算每小時的總銷售量（Sales Volume = Total Quantity）。"
   ]
  },
  {
   "cell_type": "code",
   "execution_count": 24,
   "metadata": {
    "scrolled": true
   },
   "outputs": [
    {
     "data": {
      "text/html": [
       "<div>\n",
       "<style>\n",
       "    .dataframe thead tr:only-child th {\n",
       "        text-align: right;\n",
       "    }\n",
       "\n",
       "    .dataframe thead th {\n",
       "        text-align: left;\n",
       "    }\n",
       "\n",
       "    .dataframe tbody tr th {\n",
       "        vertical-align: top;\n",
       "    }\n",
       "</style>\n",
       "<table border=\"1\" class=\"dataframe\">\n",
       "  <thead>\n",
       "    <tr style=\"text-align: right;\">\n",
       "      <th></th>\n",
       "      <th>Hour</th>\n",
       "      <th>Quantity</th>\n",
       "    </tr>\n",
       "  </thead>\n",
       "  <tbody>\n",
       "    <tr>\n",
       "      <th>0</th>\n",
       "      <td>00</td>\n",
       "      <td>117968</td>\n",
       "    </tr>\n",
       "    <tr>\n",
       "      <th>1</th>\n",
       "      <td>01</td>\n",
       "      <td>79443</td>\n",
       "    </tr>\n",
       "    <tr>\n",
       "      <th>2</th>\n",
       "      <td>02</td>\n",
       "      <td>48882</td>\n",
       "    </tr>\n",
       "    <tr>\n",
       "      <th>3</th>\n",
       "      <td>03</td>\n",
       "      <td>29436</td>\n",
       "    </tr>\n",
       "    <tr>\n",
       "      <th>4</th>\n",
       "      <td>04</td>\n",
       "      <td>18835</td>\n",
       "    </tr>\n",
       "    <tr>\n",
       "      <th>5</th>\n",
       "      <td>05</td>\n",
       "      <td>15012</td>\n",
       "    </tr>\n",
       "    <tr>\n",
       "      <th>6</th>\n",
       "      <td>06</td>\n",
       "      <td>20071</td>\n",
       "    </tr>\n",
       "    <tr>\n",
       "      <th>7</th>\n",
       "      <td>07</td>\n",
       "      <td>32724</td>\n",
       "    </tr>\n",
       "    <tr>\n",
       "      <th>8</th>\n",
       "      <td>08</td>\n",
       "      <td>48610</td>\n",
       "    </tr>\n",
       "    <tr>\n",
       "      <th>9</th>\n",
       "      <td>09</td>\n",
       "      <td>62228</td>\n",
       "    </tr>\n",
       "    <tr>\n",
       "      <th>10</th>\n",
       "      <td>10</td>\n",
       "      <td>76452</td>\n",
       "    </tr>\n",
       "    <tr>\n",
       "      <th>11</th>\n",
       "      <td>11</td>\n",
       "      <td>81788</td>\n",
       "    </tr>\n",
       "    <tr>\n",
       "      <th>12</th>\n",
       "      <td>12</td>\n",
       "      <td>88536</td>\n",
       "    </tr>\n",
       "    <tr>\n",
       "      <th>13</th>\n",
       "      <td>13</td>\n",
       "      <td>90889</td>\n",
       "    </tr>\n",
       "    <tr>\n",
       "      <th>14</th>\n",
       "      <td>14</td>\n",
       "      <td>87018</td>\n",
       "    </tr>\n",
       "    <tr>\n",
       "      <th>15</th>\n",
       "      <td>15</td>\n",
       "      <td>86698</td>\n",
       "    </tr>\n",
       "    <tr>\n",
       "      <th>16</th>\n",
       "      <td>16</td>\n",
       "      <td>84038</td>\n",
       "    </tr>\n",
       "    <tr>\n",
       "      <th>17</th>\n",
       "      <td>17</td>\n",
       "      <td>77627</td>\n",
       "    </tr>\n",
       "    <tr>\n",
       "      <th>18</th>\n",
       "      <td>18</td>\n",
       "      <td>71286</td>\n",
       "    </tr>\n",
       "    <tr>\n",
       "      <th>19</th>\n",
       "      <td>19</td>\n",
       "      <td>79634</td>\n",
       "    </tr>\n",
       "    <tr>\n",
       "      <th>20</th>\n",
       "      <td>20</td>\n",
       "      <td>100956</td>\n",
       "    </tr>\n",
       "    <tr>\n",
       "      <th>21</th>\n",
       "      <td>21</td>\n",
       "      <td>123263</td>\n",
       "    </tr>\n",
       "    <tr>\n",
       "      <th>22</th>\n",
       "      <td>22</td>\n",
       "      <td>144536</td>\n",
       "    </tr>\n",
       "    <tr>\n",
       "      <th>23</th>\n",
       "      <td>23</td>\n",
       "      <td>152120</td>\n",
       "    </tr>\n",
       "  </tbody>\n",
       "</table>\n",
       "</div>"
      ],
      "text/plain": [
       "   Hour  Quantity\n",
       "0    00    117968\n",
       "1    01     79443\n",
       "2    02     48882\n",
       "3    03     29436\n",
       "4    04     18835\n",
       "5    05     15012\n",
       "6    06     20071\n",
       "7    07     32724\n",
       "8    08     48610\n",
       "9    09     62228\n",
       "10   10     76452\n",
       "11   11     81788\n",
       "12   12     88536\n",
       "13   13     90889\n",
       "14   14     87018\n",
       "15   15     86698\n",
       "16   16     84038\n",
       "17   17     77627\n",
       "18   18     71286\n",
       "19   19     79634\n",
       "20   20    100956\n",
       "21   21    123263\n",
       "22   22    144536\n",
       "23   23    152120"
      ]
     },
     "execution_count": 24,
     "metadata": {},
     "output_type": "execute_result"
    }
   ],
   "source": [
    "data = df2.groupby(by='Hour')['Quantity'].sum().to_frame()\n",
    "data.reset_index(level=0, inplace=True) # reset index so as to sort Weekday\n",
    "data"
   ]
  },
  {
   "cell_type": "markdown",
   "metadata": {},
   "source": [
    "    (2) 繪製折線圖（line chart）                          (3) 繪製長條圖（bar chart）"
   ]
  },
  {
   "cell_type": "markdown",
   "metadata": {},
   "source": [
    "觀察折線圖和直方圖，發現總銷售量高峰出現在午夜，次高峰的總銷售量約略最高峰的一半，約莫在中午時段，可見不少用戶為夜貓族。"
   ]
  },
  {
   "cell_type": "code",
   "execution_count": 25,
   "metadata": {
    "scrolled": false
   },
   "outputs": [
    {
     "data": {
      "text/plain": [
       "Text(0.5,0.98,'Sales Volume by Hour')"
      ]
     },
     "execution_count": 25,
     "metadata": {},
     "output_type": "execute_result"
    },
    {
     "data": {
      "image/png": "[encoded data removed]",
      "text/plain": [
       "<Figure size 864x432 with 2 Axes>"
      ]
     },
     "metadata": {},
     "output_type": "display_data"
    }
   ],
   "source": [
    "fig, axs = plt.subplots(1, 2, figsize=(12, 6), sharey=True)\n",
    "\n",
    "axs[0].plot(data['Hour'], data['Quantity'])\n",
    "axs[0].set_ylabel('Sales Volume')\n",
    "axs[0].set_xlabel('Hour')\n",
    "\n",
    "axs[1].bar(data['Hour'], data['Quantity'])\n",
    "axs[1].set_ylabel('Sales Volume')\n",
    "axs[1].set_xlabel('Hour')\n",
    "\n",
    "fig.suptitle('Sales Volume by Hour')"
   ]
  }
 ],
 "metadata": {
  "kernelspec": {
   "display_name": "Python 3",
   "language": "python",
   "name": "python3"
  },
  "language_info": {
   "codemirror_mode": {
    "name": "ipython",
    "version": 3
   },
   "file_extension": ".py",
   "mimetype": "text/x-python",
   "name": "python",
   "nbconvert_exporter": "python",
   "pygments_lexer": "ipython3",
   "version": "3.6.3"
  }
 },
 "nbformat": 4,
 "nbformat_minor": 2
}
