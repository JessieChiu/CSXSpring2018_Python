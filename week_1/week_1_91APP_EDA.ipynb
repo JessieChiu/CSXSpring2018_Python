{
 "cells": [
  {
   "cell_type": "markdown",
   "metadata": {},
   "source": [
    "# HW 1：認識資料 - 91APP"
   ]
  },
  {
   "cell_type": "markdown",
   "metadata": {},
   "source": [
    "--------------------------------------------------------------------------------------------------------------------------------\n",
    "## 小結"
   ]
  },
  {
   "cell_type": "markdown",
   "metadata": {},
   "source": [
    "前八萬筆資料的電商訂單（Sales Orders）高峰期分布大致如下：\n",
    "1. 按月份：大部分的訂單分布在四、五及十二月，於五月達到高峰。\n",
    "2. 按星期：星期一至三的訂單數略高於其它日。\n",
    "3. 按小時：大部分的訂單分布在 21:00-0:00 之間，於 23:00 達到高峰。"
   ]
  },
  {
   "cell_type": "markdown",
   "metadata": {},
   "source": [
    "---------------------------------------------------------------------------------------------------------------------------------\n",
    "## Import Data"
   ]
  },
  {
   "cell_type": "code",
   "execution_count": 141,
   "metadata": {
    "collapsed": true
   },
   "outputs": [],
   "source": [
    "import pandas as pd\n",
    "import matplotlib.pyplot as plt\n",
    "\n",
    "%matplotlib inline\n",
    "color = sns.color_palette()"
   ]
  },
  {
   "cell_type": "code",
   "execution_count": 68,
   "metadata": {
    "collapsed": true
   },
   "outputs": [],
   "source": [
    "df = pd.read_csv('Ntu_Orders.csv')"
   ]
  },
  {
   "cell_type": "code",
   "execution_count": 61,
   "metadata": {},
   "outputs": [
    {
     "name": "stdout",
     "output_type": "stream",
     "text": [
      "Data Examination:\n",
      "(2268348, 27)\n",
      "------------------------------------------\n",
      "Index(['SalesOrderSlaveId', 'DateId', 'MemberId', 'TradesOrderSlaveId',\n",
      "       'ShopId', 'SalePageId', 'TradesOrderGroupCode', 'TrackSourceTypeDef',\n",
      "       'TrackChannelTypeDef', 'TrackDeviceTypeDef', 'LevelOneCategoryName',\n",
      "       'LevelTwoCategoryName', 'LevelThreeCategoryName',\n",
      "       'LevelFourCategoryName', 'IsMajor', 'IsGift', 'Quantity', 'UnitPrice',\n",
      "       'PromotionDiscount', 'EcouponDiscount', 'SalesOrderSlaveTotalPayment',\n",
      "       'SalesOrderSlaveDateTime', 'SalesOrderSlaveStatusDef',\n",
      "       'PayProfileTypeDef', 'ShippingProfileTypeDef', 'EcouponId',\n",
      "       'IsSalePageGift'],\n",
      "      dtype='object')\n",
      "------------------------------------------\n",
      "RangeIndex(start=0, stop=2268348, step=1)\n"
     ]
    }
   ],
   "source": [
    "print(\"Data Examination:\")\n",
    "print(df.shape) # Print dimensions of the summary\n",
    "print(\"------------------------------------------\")  \n",
    "print(df.columns) # Print column names\n",
    "print(\"------------------------------------------\")  \n",
    "print(df.index) # Print index  "
   ]
  },
  {
   "cell_type": "code",
   "execution_count": 135,
   "metadata": {
    "scrolled": true
   },
   "outputs": [
    {
     "data": {
      "text/html": [
       "<div>\n",
       "<style>\n",
       "    .dataframe thead tr:only-child th {\n",
       "        text-align: right;\n",
       "    }\n",
       "\n",
       "    .dataframe thead th {\n",
       "        text-align: left;\n",
       "    }\n",
       "\n",
       "    .dataframe tbody tr th {\n",
       "        vertical-align: top;\n",
       "    }\n",
       "</style>\n",
       "<table border=\"1\" class=\"dataframe\">\n",
       "  <thead>\n",
       "    <tr style=\"text-align: right;\">\n",
       "      <th></th>\n",
       "      <th>SalesOrderSlaveId</th>\n",
       "      <th>DateId</th>\n",
       "      <th>MemberId</th>\n",
       "      <th>TradesOrderSlaveId</th>\n",
       "      <th>ShopId</th>\n",
       "      <th>SalePageId</th>\n",
       "      <th>TradesOrderGroupCode</th>\n",
       "      <th>TrackSourceTypeDef</th>\n",
       "      <th>TrackChannelTypeDef</th>\n",
       "      <th>TrackDeviceTypeDef</th>\n",
       "      <th>...</th>\n",
       "      <th>PayProfileTypeDef</th>\n",
       "      <th>ShippingProfileTypeDef</th>\n",
       "      <th>EcouponId</th>\n",
       "      <th>IsSalePageGift</th>\n",
       "      <th>Date</th>\n",
       "      <th>Weekday</th>\n",
       "      <th>OrderTime</th>\n",
       "      <th>hour</th>\n",
       "      <th>Hour</th>\n",
       "      <th>Month</th>\n",
       "    </tr>\n",
       "  </thead>\n",
       "  <tbody>\n",
       "    <tr>\n",
       "      <th>0</th>\n",
       "      <td>26914456</td>\n",
       "      <td>20170103</td>\n",
       "      <td>48D5DE26-236E-4854-8474-B0DCEAFF4F42</td>\n",
       "      <td>26971960</td>\n",
       "      <td>1317</td>\n",
       "      <td>9804</td>\n",
       "      <td>b'q\\x14\\xa49\\xaa\\\\\\xecs\\xff6wH\\xfbXd\\x93\\xfbf\\...</td>\n",
       "      <td>Web</td>\n",
       "      <td>Brand</td>\n",
       "      <td>Mobile</td>\n",
       "      <td>...</td>\n",
       "      <td>SevenEleven</td>\n",
       "      <td>SevenEleven</td>\n",
       "      <td>NaN</td>\n",
       "      <td>False</td>\n",
       "      <td>20170103</td>\n",
       "      <td>Tuesday</td>\n",
       "      <td>2017-01-03 23:11:47.207</td>\n",
       "      <td>23</td>\n",
       "      <td>23</td>\n",
       "      <td>01</td>\n",
       "    </tr>\n",
       "    <tr>\n",
       "      <th>1</th>\n",
       "      <td>26914457</td>\n",
       "      <td>20170103</td>\n",
       "      <td>48D5DE26-236E-4854-8474-B0DCEAFF4F42</td>\n",
       "      <td>26971961</td>\n",
       "      <td>1317</td>\n",
       "      <td>9804</td>\n",
       "      <td>b'q\\x14\\xa49\\xaa\\\\\\xecs\\xff6wH\\xfbXd\\x93\\xfbf\\...</td>\n",
       "      <td>Web</td>\n",
       "      <td>Brand</td>\n",
       "      <td>Mobile</td>\n",
       "      <td>...</td>\n",
       "      <td>SevenEleven</td>\n",
       "      <td>SevenEleven</td>\n",
       "      <td>NaN</td>\n",
       "      <td>False</td>\n",
       "      <td>20170103</td>\n",
       "      <td>Tuesday</td>\n",
       "      <td>2017-01-03 23:11:47.223</td>\n",
       "      <td>23</td>\n",
       "      <td>23</td>\n",
       "      <td>01</td>\n",
       "    </tr>\n",
       "    <tr>\n",
       "      <th>2</th>\n",
       "      <td>26767644</td>\n",
       "      <td>20170101</td>\n",
       "      <td>C8B989DB-05F9-42D3-BD4F-E203482C5E58</td>\n",
       "      <td>26825136</td>\n",
       "      <td>1317</td>\n",
       "      <td>10118</td>\n",
       "      <td>b'\\x1d\\x8f}\\x12lu&gt;.&amp;\\xfc\\xbc\\xe0\\xd2\\xad\\xe5\\x...</td>\n",
       "      <td>Web</td>\n",
       "      <td>Brand</td>\n",
       "      <td>Mobile</td>\n",
       "      <td>...</td>\n",
       "      <td>Family</td>\n",
       "      <td>Family</td>\n",
       "      <td>NaN</td>\n",
       "      <td>False</td>\n",
       "      <td>20170101</td>\n",
       "      <td>Sunday</td>\n",
       "      <td>2017-01-01 17:21:32.113</td>\n",
       "      <td>17</td>\n",
       "      <td>17</td>\n",
       "      <td>01</td>\n",
       "    </tr>\n",
       "  </tbody>\n",
       "</table>\n",
       "<p>3 rows × 33 columns</p>\n",
       "</div>"
      ],
      "text/plain": [
       "   SalesOrderSlaveId    DateId                              MemberId  \\\n",
       "0           26914456  20170103  48D5DE26-236E-4854-8474-B0DCEAFF4F42   \n",
       "1           26914457  20170103  48D5DE26-236E-4854-8474-B0DCEAFF4F42   \n",
       "2           26767644  20170101  C8B989DB-05F9-42D3-BD4F-E203482C5E58   \n",
       "\n",
       "   TradesOrderSlaveId  ShopId  SalePageId  \\\n",
       "0            26971960    1317        9804   \n",
       "1            26971961    1317        9804   \n",
       "2            26825136    1317       10118   \n",
       "\n",
       "                                TradesOrderGroupCode TrackSourceTypeDef  \\\n",
       "0  b'q\\x14\\xa49\\xaa\\\\\\xecs\\xff6wH\\xfbXd\\x93\\xfbf\\...                Web   \n",
       "1  b'q\\x14\\xa49\\xaa\\\\\\xecs\\xff6wH\\xfbXd\\x93\\xfbf\\...                Web   \n",
       "2  b'\\x1d\\x8f}\\x12lu>.&\\xfc\\xbc\\xe0\\xd2\\xad\\xe5\\x...                Web   \n",
       "\n",
       "  TrackChannelTypeDef TrackDeviceTypeDef  ...   PayProfileTypeDef  \\\n",
       "0               Brand             Mobile  ...         SevenEleven   \n",
       "1               Brand             Mobile  ...         SevenEleven   \n",
       "2               Brand             Mobile  ...              Family   \n",
       "\n",
       "  ShippingProfileTypeDef EcouponId IsSalePageGift      Date  Weekday  \\\n",
       "0            SevenEleven       NaN          False  20170103  Tuesday   \n",
       "1            SevenEleven       NaN          False  20170103  Tuesday   \n",
       "2                 Family       NaN          False  20170101   Sunday   \n",
       "\n",
       "                OrderTime  hour  Hour  Month  \n",
       "0 2017-01-03 23:11:47.207    23    23     01  \n",
       "1 2017-01-03 23:11:47.223    23    23     01  \n",
       "2 2017-01-01 17:21:32.113    17    17     01  \n",
       "\n",
       "[3 rows x 33 columns]"
      ]
     },
     "execution_count": 135,
     "metadata": {},
     "output_type": "execute_result"
    }
   ],
   "source": [
    "df.head(3) # Print head of df"
   ]
  },
  {
   "cell_type": "code",
   "execution_count": 63,
   "metadata": {},
   "outputs": [
    {
     "data": {
      "text/html": [
       "<div>\n",
       "<style>\n",
       "    .dataframe thead tr:only-child th {\n",
       "        text-align: right;\n",
       "    }\n",
       "\n",
       "    .dataframe thead th {\n",
       "        text-align: left;\n",
       "    }\n",
       "\n",
       "    .dataframe tbody tr th {\n",
       "        vertical-align: top;\n",
       "    }\n",
       "</style>\n",
       "<table border=\"1\" class=\"dataframe\">\n",
       "  <thead>\n",
       "    <tr style=\"text-align: right;\">\n",
       "      <th></th>\n",
       "      <th>SalesOrderSlaveId</th>\n",
       "      <th>DateId</th>\n",
       "      <th>MemberId</th>\n",
       "      <th>TradesOrderSlaveId</th>\n",
       "      <th>ShopId</th>\n",
       "      <th>SalePageId</th>\n",
       "      <th>TradesOrderGroupCode</th>\n",
       "      <th>TrackSourceTypeDef</th>\n",
       "      <th>TrackChannelTypeDef</th>\n",
       "      <th>TrackDeviceTypeDef</th>\n",
       "      <th>...</th>\n",
       "      <th>UnitPrice</th>\n",
       "      <th>PromotionDiscount</th>\n",
       "      <th>EcouponDiscount</th>\n",
       "      <th>SalesOrderSlaveTotalPayment</th>\n",
       "      <th>SalesOrderSlaveDateTime</th>\n",
       "      <th>SalesOrderSlaveStatusDef</th>\n",
       "      <th>PayProfileTypeDef</th>\n",
       "      <th>ShippingProfileTypeDef</th>\n",
       "      <th>EcouponId</th>\n",
       "      <th>IsSalePageGift</th>\n",
       "    </tr>\n",
       "  </thead>\n",
       "  <tbody>\n",
       "    <tr>\n",
       "      <th>2268345</th>\n",
       "      <td>50057718</td>\n",
       "      <td>20171220</td>\n",
       "      <td>CEC073AD-FED6-4382-A408-56527B10DE4E</td>\n",
       "      <td>50121525</td>\n",
       "      <td>1317</td>\n",
       "      <td>9125</td>\n",
       "      <td>b'\\xdd\\xda\\xe9\\xbb\\x12#\\xe3\\xca7\\x0e\\xb07\\xff#...</td>\n",
       "      <td>Web</td>\n",
       "      <td>Brand</td>\n",
       "      <td>PC</td>\n",
       "      <td>...</td>\n",
       "      <td>249.0</td>\n",
       "      <td>0.0</td>\n",
       "      <td>0.0</td>\n",
       "      <td>249.0</td>\n",
       "      <td>2017-12-20 16:31:19.820</td>\n",
       "      <td>Cancel</td>\n",
       "      <td>Family</td>\n",
       "      <td>Family</td>\n",
       "      <td>NaN</td>\n",
       "      <td>False</td>\n",
       "    </tr>\n",
       "    <tr>\n",
       "      <th>2268346</th>\n",
       "      <td>50057719</td>\n",
       "      <td>20171220</td>\n",
       "      <td>CEC073AD-FED6-4382-A408-56527B10DE4E</td>\n",
       "      <td>50121526</td>\n",
       "      <td>1317</td>\n",
       "      <td>8602</td>\n",
       "      <td>b'\\xdd\\xda\\xe9\\xbb\\x12#\\xe3\\xca7\\x0e\\xb07\\xff#...</td>\n",
       "      <td>Web</td>\n",
       "      <td>Brand</td>\n",
       "      <td>PC</td>\n",
       "      <td>...</td>\n",
       "      <td>499.0</td>\n",
       "      <td>0.0</td>\n",
       "      <td>0.0</td>\n",
       "      <td>499.0</td>\n",
       "      <td>2017-12-20 16:31:19.840</td>\n",
       "      <td>Cancel</td>\n",
       "      <td>Family</td>\n",
       "      <td>Family</td>\n",
       "      <td>NaN</td>\n",
       "      <td>False</td>\n",
       "    </tr>\n",
       "    <tr>\n",
       "      <th>2268347</th>\n",
       "      <td>50058976</td>\n",
       "      <td>20171220</td>\n",
       "      <td>F135AC00-E702-47F1-B496-8EDCBE62EBBD</td>\n",
       "      <td>50122780</td>\n",
       "      <td>1317</td>\n",
       "      <td>10114</td>\n",
       "      <td>b'\\xf4\\n\\x14\\xdc\\x85n\\x17JY\\x14\\xb3\\x99v\\x15\\x...</td>\n",
       "      <td>Web</td>\n",
       "      <td>Brand</td>\n",
       "      <td>PC</td>\n",
       "      <td>...</td>\n",
       "      <td>199.0</td>\n",
       "      <td>0.0</td>\n",
       "      <td>0.0</td>\n",
       "      <td>199.0</td>\n",
       "      <td>2017-12-20 16:54:19.263</td>\n",
       "      <td>Finish</td>\n",
       "      <td>SevenEleven</td>\n",
       "      <td>SevenEleven</td>\n",
       "      <td>NaN</td>\n",
       "      <td>False</td>\n",
       "    </tr>\n",
       "  </tbody>\n",
       "</table>\n",
       "<p>3 rows × 27 columns</p>\n",
       "</div>"
      ],
      "text/plain": [
       "         SalesOrderSlaveId    DateId                              MemberId  \\\n",
       "2268345           50057718  20171220  CEC073AD-FED6-4382-A408-56527B10DE4E   \n",
       "2268346           50057719  20171220  CEC073AD-FED6-4382-A408-56527B10DE4E   \n",
       "2268347           50058976  20171220  F135AC00-E702-47F1-B496-8EDCBE62EBBD   \n",
       "\n",
       "         TradesOrderSlaveId  ShopId  SalePageId  \\\n",
       "2268345            50121525    1317        9125   \n",
       "2268346            50121526    1317        8602   \n",
       "2268347            50122780    1317       10114   \n",
       "\n",
       "                                      TradesOrderGroupCode TrackSourceTypeDef  \\\n",
       "2268345  b'\\xdd\\xda\\xe9\\xbb\\x12#\\xe3\\xca7\\x0e\\xb07\\xff#...                Web   \n",
       "2268346  b'\\xdd\\xda\\xe9\\xbb\\x12#\\xe3\\xca7\\x0e\\xb07\\xff#...                Web   \n",
       "2268347  b'\\xf4\\n\\x14\\xdc\\x85n\\x17JY\\x14\\xb3\\x99v\\x15\\x...                Web   \n",
       "\n",
       "        TrackChannelTypeDef TrackDeviceTypeDef       ...       UnitPrice  \\\n",
       "2268345               Brand                 PC       ...           249.0   \n",
       "2268346               Brand                 PC       ...           499.0   \n",
       "2268347               Brand                 PC       ...           199.0   \n",
       "\n",
       "        PromotionDiscount EcouponDiscount SalesOrderSlaveTotalPayment  \\\n",
       "2268345               0.0             0.0                       249.0   \n",
       "2268346               0.0             0.0                       499.0   \n",
       "2268347               0.0             0.0                       199.0   \n",
       "\n",
       "         SalesOrderSlaveDateTime  SalesOrderSlaveStatusDef  PayProfileTypeDef  \\\n",
       "2268345  2017-12-20 16:31:19.820                    Cancel             Family   \n",
       "2268346  2017-12-20 16:31:19.840                    Cancel             Family   \n",
       "2268347  2017-12-20 16:54:19.263                    Finish        SevenEleven   \n",
       "\n",
       "         ShippingProfileTypeDef  EcouponId  IsSalePageGift  \n",
       "2268345                  Family        NaN           False  \n",
       "2268346                  Family        NaN           False  \n",
       "2268347             SevenEleven        NaN           False  \n",
       "\n",
       "[3 rows x 27 columns]"
      ]
     },
     "execution_count": 63,
     "metadata": {},
     "output_type": "execute_result"
    }
   ],
   "source": [
    "df.tail(3) # Print tail of df  "
   ]
  },
  {
   "cell_type": "markdown",
   "metadata": {},
   "source": [
    "## Exploratory Data Analysis - Customer Purchasing Patterns"
   ]
  },
  {
   "cell_type": "markdown",
   "metadata": {},
   "source": [
    "### Step 1: Data Preprocessing"
   ]
  },
  {
   "cell_type": "code",
   "execution_count": 110,
   "metadata": {
    "scrolled": true
   },
   "outputs": [
    {
     "data": {
      "text/plain": [
       "count                     2268348\n",
       "unique                    2212379\n",
       "top       2017-07-28 12:02:51.320\n",
       "freq                            3\n",
       "Name: SalesOrderSlaveDateTime, dtype: object"
      ]
     },
     "execution_count": 110,
     "metadata": {},
     "output_type": "execute_result"
    }
   ],
   "source": [
    "# Check column SalesOrderSlaveDateTime for correct dtype\n",
    "df['SalesOrderSlaveDateTime'].describe()"
   ]
  },
  {
   "cell_type": "code",
   "execution_count": 111,
   "metadata": {
    "scrolled": true
   },
   "outputs": [
    {
     "data": {
      "text/plain": [
       "count                        2268348\n",
       "unique                       2212379\n",
       "top       2017-02-10 21:32:32.147000\n",
       "freq                               3\n",
       "first     2017-01-01 00:01:04.790000\n",
       "last      2018-01-09 07:08:38.650000\n",
       "Name: OrderTime, dtype: object"
      ]
     },
     "execution_count": 111,
     "metadata": {},
     "output_type": "execute_result"
    }
   ],
   "source": [
    "# Convert dtype to pd datetime \"%Y%m%d %H:%M:%S\"\n",
    "df['OrderTime'] = pd.to_datetime(df['SalesOrderSlaveDateTime'], format=\"%Y%m%d %H:%M:%S\")\n",
    "df['OrderTime'].describe()"
   ]
  },
  {
   "cell_type": "code",
   "execution_count": 130,
   "metadata": {
    "scrolled": true
   },
   "outputs": [],
   "source": [
    "df['Date'] = df['OrderTime'].apply(lambda x: x.strftime('%Y%m%d')) # Create date column\n",
    "df['Month'] = df['OrderTime'].apply(lambda x: x.strftime('%m')) # Create month column\n",
    "df['Weekday'] = df['OrderTime'].dt.weekday_name # Create weekday column\n",
    "df['Hour'] = df['OrderTime'].apply(lambda x: x.strftime('%H')) # Create hour column"
   ]
  },
  {
   "cell_type": "code",
   "execution_count": 133,
   "metadata": {},
   "outputs": [
    {
     "data": {
      "text/html": [
       "<div>\n",
       "<style>\n",
       "    .dataframe thead tr:only-child th {\n",
       "        text-align: right;\n",
       "    }\n",
       "\n",
       "    .dataframe thead th {\n",
       "        text-align: left;\n",
       "    }\n",
       "\n",
       "    .dataframe tbody tr th {\n",
       "        vertical-align: top;\n",
       "    }\n",
       "</style>\n",
       "<table border=\"1\" class=\"dataframe\">\n",
       "  <thead>\n",
       "    <tr style=\"text-align: right;\">\n",
       "      <th></th>\n",
       "      <th>OrderTime</th>\n",
       "      <th>Date</th>\n",
       "      <th>Month</th>\n",
       "      <th>Weekday</th>\n",
       "      <th>Hour</th>\n",
       "    </tr>\n",
       "  </thead>\n",
       "  <tbody>\n",
       "    <tr>\n",
       "      <th>0</th>\n",
       "      <td>2017-01-03 23:11:47.207</td>\n",
       "      <td>20170103</td>\n",
       "      <td>01</td>\n",
       "      <td>Tuesday</td>\n",
       "      <td>23</td>\n",
       "    </tr>\n",
       "    <tr>\n",
       "      <th>1</th>\n",
       "      <td>2017-01-03 23:11:47.223</td>\n",
       "      <td>20170103</td>\n",
       "      <td>01</td>\n",
       "      <td>Tuesday</td>\n",
       "      <td>23</td>\n",
       "    </tr>\n",
       "    <tr>\n",
       "      <th>2</th>\n",
       "      <td>2017-01-01 17:21:32.113</td>\n",
       "      <td>20170101</td>\n",
       "      <td>01</td>\n",
       "      <td>Sunday</td>\n",
       "      <td>17</td>\n",
       "    </tr>\n",
       "  </tbody>\n",
       "</table>\n",
       "</div>"
      ],
      "text/plain": [
       "                OrderTime      Date Month  Weekday Hour\n",
       "0 2017-01-03 23:11:47.207  20170103    01  Tuesday   23\n",
       "1 2017-01-03 23:11:47.223  20170103    01  Tuesday   23\n",
       "2 2017-01-01 17:21:32.113  20170101    01   Sunday   17"
      ]
     },
     "execution_count": 133,
     "metadata": {},
     "output_type": "execute_result"
    }
   ],
   "source": [
    "df[['OrderTime','Date','Month','Weekday','Hour']].head(3) # Print head of new columns for inspection"
   ]
  },
  {
   "cell_type": "markdown",
   "metadata": {},
   "source": [
    "### Step 2: Data Grouping"
   ]
  },
  {
   "cell_type": "markdown",
   "metadata": {},
   "source": [
    "依時間分群（月份、星期、小時），視電商訂單（Sales Orders）高峰期分布，觀察電商消費者行為。"
   ]
  },
  {
   "cell_type": "code",
   "execution_count": 146,
   "metadata": {},
   "outputs": [
    {
     "data": {
      "text/html": [
       "<div>\n",
       "<style>\n",
       "    .dataframe thead tr:only-child th {\n",
       "        text-align: right;\n",
       "    }\n",
       "\n",
       "    .dataframe thead th {\n",
       "        text-align: left;\n",
       "    }\n",
       "\n",
       "    .dataframe tbody tr th {\n",
       "        vertical-align: top;\n",
       "    }\n",
       "</style>\n",
       "<table border=\"1\" class=\"dataframe\">\n",
       "  <thead>\n",
       "    <tr style=\"text-align: right;\">\n",
       "      <th></th>\n",
       "      <th>TradesOrderGroupCode</th>\n",
       "      <th>OrderTime</th>\n",
       "      <th>Date</th>\n",
       "      <th>Month</th>\n",
       "      <th>Weekday</th>\n",
       "      <th>Hour</th>\n",
       "    </tr>\n",
       "  </thead>\n",
       "  <tbody>\n",
       "    <tr>\n",
       "      <th>0</th>\n",
       "      <td>b'q\\x14\\xa49\\xaa\\\\\\xecs\\xff6wH\\xfbXd\\x93\\xfbf\\...</td>\n",
       "      <td>2017-01-03 23:11:47.207</td>\n",
       "      <td>20170103</td>\n",
       "      <td>01</td>\n",
       "      <td>Tuesday</td>\n",
       "      <td>23</td>\n",
       "    </tr>\n",
       "    <tr>\n",
       "      <th>1</th>\n",
       "      <td>b'q\\x14\\xa49\\xaa\\\\\\xecs\\xff6wH\\xfbXd\\x93\\xfbf\\...</td>\n",
       "      <td>2017-01-03 23:11:47.223</td>\n",
       "      <td>20170103</td>\n",
       "      <td>01</td>\n",
       "      <td>Tuesday</td>\n",
       "      <td>23</td>\n",
       "    </tr>\n",
       "    <tr>\n",
       "      <th>2</th>\n",
       "      <td>b'\\x1d\\x8f}\\x12lu&gt;.&amp;\\xfc\\xbc\\xe0\\xd2\\xad\\xe5\\x...</td>\n",
       "      <td>2017-01-01 17:21:32.113</td>\n",
       "      <td>20170101</td>\n",
       "      <td>01</td>\n",
       "      <td>Sunday</td>\n",
       "      <td>17</td>\n",
       "    </tr>\n",
       "  </tbody>\n",
       "</table>\n",
       "</div>"
      ],
      "text/plain": [
       "                                TradesOrderGroupCode               OrderTime  \\\n",
       "0  b'q\\x14\\xa49\\xaa\\\\\\xecs\\xff6wH\\xfbXd\\x93\\xfbf\\... 2017-01-03 23:11:47.207   \n",
       "1  b'q\\x14\\xa49\\xaa\\\\\\xecs\\xff6wH\\xfbXd\\x93\\xfbf\\... 2017-01-03 23:11:47.223   \n",
       "2  b'\\x1d\\x8f}\\x12lu>.&\\xfc\\xbc\\xe0\\xd2\\xad\\xe5\\x... 2017-01-01 17:21:32.113   \n",
       "\n",
       "       Date Month  Weekday Hour  \n",
       "0  20170103    01  Tuesday   23  \n",
       "1  20170103    01  Tuesday   23  \n",
       "2  20170101    01   Sunday   17  "
      ]
     },
     "execution_count": 146,
     "metadata": {},
     "output_type": "execute_result"
    }
   ],
   "source": [
    "df2 = df[['TradesOrderGroupCode','OrderTime','Date','Month','Weekday','Hour']]\n",
    "df2.head(3)"
   ]
  },
  {
   "cell_type": "markdown",
   "metadata": {},
   "source": [
    "### ● 依月份分群"
   ]
  },
  {
   "cell_type": "markdown",
   "metadata": {},
   "source": [
    "因為資料太多跑不動，先取前八萬筆試跑。前八萬筆樣本顯示訂單高峰分布在四、五及十二月。"
   ]
  },
  {
   "cell_type": "code",
   "execution_count": 162,
   "metadata": {},
   "outputs": [
    {
     "data": {
      "text/plain": [
       "<matplotlib.axes._subplots.AxesSubplot at 0x1635cb77d30>"
      ]
     },
     "execution_count": 162,
     "metadata": {},
     "output_type": "execute_result"
    },
    {
     "data": {
      "image/png": "[encoded data removed]",
      "text/plain": [
       "<matplotlib.figure.Figure at 0x1635cb77b38>"
      ]
     },
     "metadata": {},
     "output_type": "display_data"
    }
   ],
   "source": [
    "plt.figure(figsize=(12,6))\n",
    "plt.title(\"Frequency of Order by Month\", fontsize=15)\n",
    "InvoiceDate = df2[:80000].groupby(['TradesOrderGroupCode'])['Month'].unique() #先取前八萬筆(跑不動全部)\n",
    "InvoiceDate.value_counts().sort_index().plot.bar()"
   ]
  },
  {
   "cell_type": "markdown",
   "metadata": {},
   "source": [
    "### ● 依星期分群"
   ]
  },
  {
   "cell_type": "markdown",
   "metadata": {},
   "source": [
    "前八萬筆樣本顯示星期一至三的訂單數略高於其它日。"
   ]
  },
  {
   "cell_type": "markdown",
   "metadata": {},
   "source": [
    "# Q：要怎麼重新 order x軸?"
   ]
  },
  {
   "cell_type": "code",
   "execution_count": 182,
   "metadata": {
    "scrolled": true
   },
   "outputs": [
    {
     "data": {
      "text/plain": [
       "<matplotlib.axes._subplots.AxesSubplot at 0x1635e8f5780>"
      ]
     },
     "execution_count": 182,
     "metadata": {},
     "output_type": "execute_result"
    },
    {
     "data": {
      "image/png": "[encoded data removed]",
      "text/plain": [
       "<matplotlib.figure.Figure at 0x1635e903748>"
      ]
     },
     "metadata": {},
     "output_type": "display_data"
    }
   ],
   "source": [
    "plt.figure(figsize=(12,6))\n",
    "plt.title(\"Frequency of Order by Weekday\", fontsize=15)\n",
    "InvoiceDate = df2[:80000].groupby(['TradesOrderGroupCode'])['Weekday'].unique() #先取前八萬筆(跑不動全部)\n",
    "#order = ['Monday','Tuesday','Wednesday','Thursday','Friday','Saturday','Sunday']\n",
    "InvoiceDate.value_counts().sort_index().plot.bar()"
   ]
  },
  {
   "cell_type": "markdown",
   "metadata": {},
   "source": [
    "### ● 依小時分群"
   ]
  },
  {
   "cell_type": "markdown",
   "metadata": {},
   "source": [
    "前八萬筆樣本顯示訂單高峰接近午夜。"
   ]
  },
  {
   "cell_type": "code",
   "execution_count": 183,
   "metadata": {},
   "outputs": [
    {
     "data": {
      "text/plain": [
       "<matplotlib.axes._subplots.AxesSubplot at 0x1635e79fc50>"
      ]
     },
     "execution_count": 183,
     "metadata": {},
     "output_type": "execute_result"
    },
    {
     "data": {
      "image/png": "[encoded data removed]",
      "text/plain": [
       "<matplotlib.figure.Figure at 0x1635ef4a860>"
      ]
     },
     "metadata": {},
     "output_type": "display_data"
    }
   ],
   "source": [
    "plt.figure(figsize=(12,6))\n",
    "plt.title(\"Frequency of Order by Hour\", fontsize=15)\n",
    "InvoiceDate = df2[:80000].groupby(['TradesOrderGroupCode'])['Hour'].unique() #先取前八萬筆(跑不動全部)\n",
    "InvoiceDate.value_counts().sort_index().plot.bar()"
   ]
  }
 ],
 "metadata": {
  "kernelspec": {
   "display_name": "Python 3",
   "language": "python",
   "name": "python3"
  },
  "language_info": {
   "codemirror_mode": {
    "name": "ipython",
    "version": 3
   },
   "file_extension": ".py",
   "mimetype": "text/x-python",
   "name": "python",
   "nbconvert_exporter": "python",
   "pygments_lexer": "ipython3",
   "version": "3.6.3"
  }
 },
 "nbformat": 4,
 "nbformat_minor": 2
}
